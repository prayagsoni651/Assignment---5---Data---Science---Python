{
 "cells": [
  {
   "cell_type": "code",
   "execution_count": 1,
   "metadata": {},
   "outputs": [],
   "source": [
    "# 1. What does an empty dictionary's code look like?\n",
    "\n",
    "empty_dict = {}\n"
   ]
  },
  {
   "cell_type": "code",
   "execution_count": 2,
   "metadata": {},
   "outputs": [
    {
     "name": "stdout",
     "output_type": "stream",
     "text": [
      "42\n"
     ]
    }
   ],
   "source": [
    "# 2. What is the value of a dictionary value with the \n",
    "# key 'foo' and the value 42?\n",
    "\n",
    "my_dict = {'foo': 42}\n",
    "\n",
    "value_of_foo = my_dict['foo']\n",
    "print(value_of_foo)  # Output: 42\n"
   ]
  },
  {
   "cell_type": "code",
   "execution_count": 3,
   "metadata": {},
   "outputs": [
    {
     "name": "stdout",
     "output_type": "stream",
     "text": [
      "1\n",
      "value\n"
     ]
    }
   ],
   "source": [
    "\n",
    "# 3. What is the most significant distinction between a dictionary and a list?\n",
    "\n",
    "'''\n",
    "The most significant distinction between a dictionary and a list in Python is the way they store and organize data:\n",
    "\n",
    "Organization of Data:\n",
    "   === List: A list is an ordered collection of elements. Elements in a list \n",
    "       are accessed by their index, which is an integer starting from 0.\n",
    "   === Dictionary: A dictionary is an unordered collection of key-value pairs\n",
    "      . Each key in a dictionary is unique and maps to a specific value.\n",
    "      \n",
    "      \n",
    "Accessing Elements:\n",
    "  === List: Elements in a list are accessed by their index. For example,\n",
    "       my_list[0] would give you the first element of the list.\n",
    "  === Dictionary: Elements in a dictionary are accessed using keys. \n",
    "      For example, my_dict['key'] would give you the value associated with\n",
    "      the key 'key'.\n",
    "      \n",
    "      \n",
    "      \n",
    "Mutability:\n",
    "  === List: Lists are mutable, meaning you can modify, add, or remove elements\n",
    "      after the list is created.\n",
    "  === Dictionary: Dictionaries are also mutable; you can add, remove, or modify\n",
    "      key-value pairs.\n",
    "      \n",
    "      \n",
    "Syntax:\n",
    "  === List: Lists are created using square brackets, like my_list = [1, 2, 3].\n",
    "  === Dictionary: Dictionaries are created using curly braces and the key: \n",
    "      value syntax, like my_dict = {'key': 'value'}\n",
    "'''\n",
    "\n",
    "# List\n",
    "my_list = [1, 2, 3]\n",
    "print(my_list[0])  # Output: 1\n",
    "\n",
    "# Dictionary\n",
    "my_dict = {'key': 'value'}\n",
    "print(my_dict['key'])  # Output: 'value'\n"
   ]
  },
  {
   "cell_type": "code",
   "execution_count": 4,
   "metadata": {},
   "outputs": [
    {
     "ename": "KeyError",
     "evalue": "'foo'",
     "output_type": "error",
     "traceback": [
      "\u001b[1;31m---------------------------------------------------------------------------\u001b[0m",
      "\u001b[1;31mKeyError\u001b[0m                                  Traceback (most recent call last)",
      "Cell \u001b[1;32mIn[4], line 13\u001b[0m\n\u001b[0;32m     10\u001b[0m spam \u001b[38;5;241m=\u001b[39m {\u001b[38;5;124m'\u001b[39m\u001b[38;5;124mbar\u001b[39m\u001b[38;5;124m'\u001b[39m: \u001b[38;5;241m100\u001b[39m}\n\u001b[0;32m     12\u001b[0m \u001b[38;5;66;03m# The following line will raise a KeyError\u001b[39;00m\n\u001b[1;32m---> 13\u001b[0m value \u001b[38;5;241m=\u001b[39m \u001b[43mspam\u001b[49m\u001b[43m[\u001b[49m\u001b[38;5;124;43m'\u001b[39;49m\u001b[38;5;124;43mfoo\u001b[39;49m\u001b[38;5;124;43m'\u001b[39;49m\u001b[43m]\u001b[49m\n\u001b[0;32m     16\u001b[0m value \u001b[38;5;241m=\u001b[39m spam\u001b[38;5;241m.\u001b[39mget(\u001b[38;5;124m'\u001b[39m\u001b[38;5;124mfoo\u001b[39m\u001b[38;5;124m'\u001b[39m, \u001b[38;5;124m'\u001b[39m\u001b[38;5;124mdefault_value\u001b[39m\u001b[38;5;124m'\u001b[39m)\n",
      "\u001b[1;31mKeyError\u001b[0m: 'foo'"
     ]
    }
   ],
   "source": [
    "# 4. What happens if you try to access spam['foo'] if spam is {'bar': 100}?\n",
    "\n",
    "'''\n",
    "\n",
    "\n",
    "If you try to access spam['foo'] and spam is {'bar': 100}, it will result\n",
    "in a KeyError. This is because the key 'foo' does not exist in the dictionary\n",
    "spam'''\n",
    "\n",
    "spam = {'bar': 100}\n",
    "\n",
    "# The following line will raise a KeyError\n",
    "value = spam['foo']\n",
    "'''\n",
    "Attempting to access a key that is not present in the dictionary \n",
    "using square bracket notation will raise a KeyError in Python.\n",
    "If you anticipate that a key might not exist in the dictionary, \n",
    "you can use the get() method to provide a default value:\n",
    "'''\n",
    "\n",
    "value = spam.get('foo', 'default_value')\n",
    "\n"
   ]
  },
  {
   "cell_type": "code",
   "execution_count": 5,
   "metadata": {},
   "outputs": [
    {
     "name": "stdout",
     "output_type": "stream",
     "text": [
      "True\n",
      "True\n"
     ]
    }
   ],
   "source": [
    "# 5. If a dictionary is stored in spam, what is the difference between the \n",
    "# expressions 'cat' in spam and 'cat' in spam.keys()?\n",
    "\n",
    "'''\n",
    "'cat' in spam:\n",
    "\n",
    "This expression checks if the key 'cat' is present in the dictionary spam.\n",
    "If 'cat' is a key in spam, the expression evaluates to True; otherwise,\n",
    "it evaluates to False\n",
    "'''\n",
    "\n",
    "spam = {'cat': 42, 'dog': 23, 'bird': 7}\n",
    "print('cat' in spam)  # Output: True\n",
    "\n",
    "\n",
    "\n",
    "'''\n",
    "'cat' in spam.keys():\n",
    "\n",
    " = This expression explicitly checks if the key 'cat' is present in the keys \n",
    "   of the dictionary spam.\n",
    " = It has the same result as 'cat' in spam and will also evaluate to True or \n",
    "   False accordingly.\n",
    "\n",
    "'''\n",
    "\n",
    "spam = {'cat': 42, 'dog': 23, 'bird': 7}\n",
    "print('cat' in spam.keys())  # Output: True\n"
   ]
  },
  {
   "cell_type": "code",
   "execution_count": 7,
   "metadata": {},
   "outputs": [
    {
     "name": "stdout",
     "output_type": "stream",
     "text": [
      "True\n",
      "True\n"
     ]
    }
   ],
   "source": [
    "# 6. If a dictionary is stored in spam, what is the difference\n",
    "# between the expressions 'cat' in spam and 'cat' in spam.values()?\n",
    "\n",
    "'''\n",
    "'cat' in spam:\n",
    "\n",
    " = This expression checks if the key 'cat' is present in the keys of the\n",
    " dictionary spam.\n",
    " = If 'cat' is a key in spam, the expression evaluates to True; otherwise, \n",
    " it evaluates to False\n",
    "'''\n",
    "\n",
    "spam = {'cat': 42, 'dog': 23, 'bird': 7}\n",
    "print('cat' in spam)  # Output: True\n",
    "\n",
    "\n",
    "'''\n",
    "'cat' in spam.values():\n",
    "\n",
    " = This expression checks if the value 'cat' is present in the values of the \n",
    "   dictionary spam.\n",
    " = It will return True if 'cat' is one of the values in the dictionary, \n",
    "   and False otherwise\n",
    "'''\n",
    "\n",
    "spam = {'animal': 'cat', 'color': 'black', 'age': 3}\n",
    "print('cat' in spam.values())  # Output: True\n",
    "\n"
   ]
  },
  {
   "cell_type": "code",
   "execution_count": 8,
   "metadata": {},
   "outputs": [
    {
     "data": {
      "text/plain": [
       "'black'"
      ]
     },
     "execution_count": 8,
     "metadata": {},
     "output_type": "execute_result"
    }
   ],
   "source": [
    "# 7. What is a shortcut for the following code?\n",
    "\n",
    "\n",
    "spam.setdefault('color', 'black')\n"
   ]
  },
  {
   "cell_type": "code",
   "execution_count": 9,
   "metadata": {},
   "outputs": [
    {
     "name": "stdout",
     "output_type": "stream",
     "text": [
      "{'age': 25, 'city': 'New York', 'name': 'John'}\n"
     ]
    }
   ],
   "source": [
    "# 8. How do you \"pretty print\" dictionary values using which \n",
    "# module and function?\n",
    "\n",
    "\n",
    "from pprint import pprint\n",
    "\n",
    "my_dict = {'name': 'John', 'age': 25, 'city': 'New York'}\n",
    "\n",
    "pprint(my_dict)\n"
   ]
  },
  {
   "cell_type": "code",
   "execution_count": null,
   "metadata": {},
   "outputs": [],
   "source": []
  }
 ],
 "metadata": {
  "kernelspec": {
   "display_name": "base",
   "language": "python",
   "name": "python3"
  },
  "language_info": {
   "codemirror_mode": {
    "name": "ipython",
    "version": 3
   },
   "file_extension": ".py",
   "mimetype": "text/x-python",
   "name": "python",
   "nbconvert_exporter": "python",
   "pygments_lexer": "ipython3",
   "version": "3.11.4"
  }
 },
 "nbformat": 4,
 "nbformat_minor": 2
}
